{
 "cells": [
  {
   "cell_type": "markdown",
   "metadata": {
    "id": "TFzHXU7YmW0t"
   },
   "source": [
    "**Write a program to create, append, and remove lists in python.**"
   ]
  },
  {
   "cell_type": "code",
   "execution_count": 1,
   "metadata": {
    "colab": {
     "base_uri": "https://localhost:8080/"
    },
    "executionInfo": {
     "elapsed": 13,
     "status": "ok",
     "timestamp": 1641895595418,
     "user": {
      "displayName": "Vinit Patel",
      "photoUrl": "https://lh3.googleusercontent.com/a-/AOh14GhaWw1VeSfZPTfpE5z0PQimeo-VI1DIpVXk--IDpw=s64",
      "userId": "03921918086117423147"
     },
     "user_tz": -330
    },
    "id": "vBnkZwAlmY45",
    "outputId": "2104c1cf-bb2e-401d-9ca8-01e172a3531c"
   },
   "outputs": [
    {
     "name": "stdout",
     "output_type": "stream",
     "text": [
      "Pets are : ['cat', 'dog', 'rat', 'pig', 'tiger']\n",
      "Snakes are : ['python', 'anaconda', 'fish', 'cobra', 'mamba']\n",
      "Animals are : ['cat', 'dog', 'rat', 'pig', 'tiger', 'python', 'anaconda', 'fish', 'cobra', 'mamba']\n",
      "updated Snakes are : ['python', 'anaconda', 'cobra', 'mamba']\n"
     ]
    }
   ],
   "source": [
    "pets = ['cat', 'dog', 'rat', 'pig', 'tiger']\n",
    "snakes=['python','anaconda','fish','cobra','mamba']\n",
    "print(\"Pets are :\",pets)\n",
    "print(\"Snakes are :\",snakes)\n",
    "animals=pets+snakes\n",
    "print(\"Animals are :\",animals)\n",
    "snakes.remove(\"fish\")\n",
    "print(\"updated Snakes are :\",snakes) "
   ]
  },
  {
   "cell_type": "code",
   "execution_count": null,
   "metadata": {},
   "outputs": [],
   "source": []
  },
  {
   "cell_type": "code",
   "execution_count": null,
   "metadata": {},
   "outputs": [],
   "source": []
  }
 ],
 "metadata": {
  "colab": {
   "authorship_tag": "ABX9TyNBjmmGobHWm9ajfqxP6v1z",
   "collapsed_sections": [],
   "name": "Program 5.ipynb",
   "provenance": []
  },
  "kernelspec": {
   "display_name": "Python 3",
   "language": "python",
   "name": "python3"
  },
  "language_info": {
   "codemirror_mode": {
    "name": "ipython",
    "version": 3
   },
   "file_extension": ".py",
   "mimetype": "text/x-python",
   "name": "python",
   "nbconvert_exporter": "python",
   "pygments_lexer": "ipython3",
   "version": "3.8.8"
  }
 },
 "nbformat": 4,
 "nbformat_minor": 1
}
